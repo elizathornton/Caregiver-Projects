{
  "nbformat": 4,
  "nbformat_minor": 0,
  "metadata": {
    "colab": {
      "provenance": [],
      "authorship_tag": "ABX9TyMg/wlK7WIkAmk/pe0pow44",
      "include_colab_link": true
    },
    "kernelspec": {
      "name": "python3",
      "display_name": "Python 3"
    },
    "language_info": {
      "name": "python"
    }
  },
  "cells": [
    {
      "cell_type": "markdown",
      "metadata": {
        "id": "view-in-github",
        "colab_type": "text"
      },
      "source": [
        "<a href=\"https://colab.research.google.com/github/elizathornton/Caregiver-Projects/blob/main/Caregiver.ipynb\" target=\"_parent\"><img src=\"https://colab.research.google.com/assets/colab-badge.svg\" alt=\"Open In Colab\"/></a>"
      ]
    },
    {
      "cell_type": "markdown",
      "source": [
        "## Lonliness Among Caregivers - Data Exploration \n",
        "In this project I will explore the public data set put out by National Alliance for Caregiving provided under a creative commons license.  Their fanastic 2020 report on caregiving in the US can be found here: https://www.caregiving.org/research/caregiving-in-the-us/caregiving-in-the-us-2020/.\n",
        "These data are very comprehensive, combining surveys from about 15,000 caregivers.  In this exploration, I want to look at feelings of isolation and loneliness among caregivers.  "
      ],
      "metadata": {
        "id": "AaqD5gxwvKlN"
      }
    },
    {
      "cell_type": "code",
      "execution_count": null,
      "metadata": {
        "colab": {
          "base_uri": "https://localhost:8080/"
        },
        "id": "dEySjYR5c94R",
        "outputId": "a86abe87-7e3e-4b33-b828-8f633fe3cc5a"
      },
      "outputs": [
        {
          "output_type": "stream",
          "name": "stdout",
          "text": [
            "Looking in indexes: https://pypi.org/simple, https://us-python.pkg.dev/colab-wheels/public/simple/\n",
            "Requirement already satisfied: jupyter-dash in /usr/local/lib/python3.8/dist-packages (0.4.2)\n",
            "Requirement already satisfied: flask in /usr/local/lib/python3.8/dist-packages (from jupyter-dash) (1.1.4)\n",
            "Requirement already satisfied: ipython in /usr/local/lib/python3.8/dist-packages (from jupyter-dash) (7.9.0)\n",
            "Requirement already satisfied: dash in /usr/local/lib/python3.8/dist-packages (from jupyter-dash) (2.8.1)\n",
            "Requirement already satisfied: requests in /usr/local/lib/python3.8/dist-packages (from jupyter-dash) (2.25.1)\n",
            "Requirement already satisfied: ipykernel in /usr/local/lib/python3.8/dist-packages (from jupyter-dash) (5.3.4)\n",
            "Requirement already satisfied: ansi2html in /usr/local/lib/python3.8/dist-packages (from jupyter-dash) (1.8.0)\n",
            "Requirement already satisfied: retrying in /usr/local/lib/python3.8/dist-packages (from jupyter-dash) (1.3.4)\n",
            "Requirement already satisfied: nest-asyncio in /usr/local/lib/python3.8/dist-packages (from jupyter-dash) (1.5.6)\n",
            "Requirement already satisfied: dash-core-components==2.0.0 in /usr/local/lib/python3.8/dist-packages (from dash->jupyter-dash) (2.0.0)\n",
            "Requirement already satisfied: plotly>=5.0.0 in /usr/local/lib/python3.8/dist-packages (from dash->jupyter-dash) (5.5.0)\n",
            "Requirement already satisfied: dash-table==5.0.0 in /usr/local/lib/python3.8/dist-packages (from dash->jupyter-dash) (5.0.0)\n",
            "Requirement already satisfied: dash-html-components==2.0.0 in /usr/local/lib/python3.8/dist-packages (from dash->jupyter-dash) (2.0.0)\n",
            "Requirement already satisfied: click<8.0,>=5.1 in /usr/local/lib/python3.8/dist-packages (from flask->jupyter-dash) (7.1.2)\n",
            "Requirement already satisfied: Jinja2<3.0,>=2.10.1 in /usr/local/lib/python3.8/dist-packages (from flask->jupyter-dash) (2.11.3)\n",
            "Requirement already satisfied: Werkzeug<2.0,>=0.15 in /usr/local/lib/python3.8/dist-packages (from flask->jupyter-dash) (1.0.1)\n",
            "Requirement already satisfied: itsdangerous<2.0,>=0.24 in /usr/local/lib/python3.8/dist-packages (from flask->jupyter-dash) (1.1.0)\n",
            "Requirement already satisfied: traitlets>=4.1.0 in /usr/local/lib/python3.8/dist-packages (from ipykernel->jupyter-dash) (5.7.1)\n",
            "Requirement already satisfied: jupyter-client in /usr/local/lib/python3.8/dist-packages (from ipykernel->jupyter-dash) (6.1.12)\n",
            "Requirement already satisfied: tornado>=4.2 in /usr/local/lib/python3.8/dist-packages (from ipykernel->jupyter-dash) (6.0.4)\n",
            "Requirement already satisfied: pexpect in /usr/local/lib/python3.8/dist-packages (from ipython->jupyter-dash) (4.8.0)\n",
            "Requirement already satisfied: prompt-toolkit<2.1.0,>=2.0.0 in /usr/local/lib/python3.8/dist-packages (from ipython->jupyter-dash) (2.0.10)\n",
            "Requirement already satisfied: backcall in /usr/local/lib/python3.8/dist-packages (from ipython->jupyter-dash) (0.2.0)\n",
            "Requirement already satisfied: decorator in /usr/local/lib/python3.8/dist-packages (from ipython->jupyter-dash) (4.4.2)\n",
            "Requirement already satisfied: jedi>=0.10 in /usr/local/lib/python3.8/dist-packages (from ipython->jupyter-dash) (0.18.2)\n",
            "Requirement already satisfied: pickleshare in /usr/local/lib/python3.8/dist-packages (from ipython->jupyter-dash) (0.7.5)\n",
            "Requirement already satisfied: setuptools>=18.5 in /usr/local/lib/python3.8/dist-packages (from ipython->jupyter-dash) (57.4.0)\n",
            "Requirement already satisfied: pygments in /usr/local/lib/python3.8/dist-packages (from ipython->jupyter-dash) (2.6.1)\n",
            "Requirement already satisfied: idna<3,>=2.5 in /usr/local/lib/python3.8/dist-packages (from requests->jupyter-dash) (2.10)\n",
            "Requirement already satisfied: chardet<5,>=3.0.2 in /usr/local/lib/python3.8/dist-packages (from requests->jupyter-dash) (4.0.0)\n",
            "Requirement already satisfied: certifi>=2017.4.17 in /usr/local/lib/python3.8/dist-packages (from requests->jupyter-dash) (2022.12.7)\n",
            "Requirement already satisfied: urllib3<1.27,>=1.21.1 in /usr/local/lib/python3.8/dist-packages (from requests->jupyter-dash) (1.24.3)\n",
            "Requirement already satisfied: six>=1.7.0 in /usr/local/lib/python3.8/dist-packages (from retrying->jupyter-dash) (1.15.0)\n",
            "Requirement already satisfied: parso<0.9.0,>=0.8.0 in /usr/local/lib/python3.8/dist-packages (from jedi>=0.10->ipython->jupyter-dash) (0.8.3)\n",
            "Requirement already satisfied: MarkupSafe>=0.23 in /usr/local/lib/python3.8/dist-packages (from Jinja2<3.0,>=2.10.1->flask->jupyter-dash) (2.0.1)\n",
            "Requirement already satisfied: tenacity>=6.2.0 in /usr/local/lib/python3.8/dist-packages (from plotly>=5.0.0->dash->jupyter-dash) (8.1.0)\n",
            "Requirement already satisfied: wcwidth in /usr/local/lib/python3.8/dist-packages (from prompt-toolkit<2.1.0,>=2.0.0->ipython->jupyter-dash) (0.2.6)\n",
            "Requirement already satisfied: pyzmq>=13 in /usr/local/lib/python3.8/dist-packages (from jupyter-client->ipykernel->jupyter-dash) (23.2.1)\n",
            "Requirement already satisfied: python-dateutil>=2.1 in /usr/local/lib/python3.8/dist-packages (from jupyter-client->ipykernel->jupyter-dash) (2.8.2)\n",
            "Requirement already satisfied: jupyter-core>=4.6.0 in /usr/local/lib/python3.8/dist-packages (from jupyter-client->ipykernel->jupyter-dash) (5.2.0)\n",
            "Requirement already satisfied: ptyprocess>=0.5 in /usr/local/lib/python3.8/dist-packages (from pexpect->ipython->jupyter-dash) (0.7.0)\n",
            "Requirement already satisfied: platformdirs>=2.5 in /usr/local/lib/python3.8/dist-packages (from jupyter-core>=4.6.0->jupyter-client->ipykernel->jupyter-dash) (2.6.2)\n",
            "Looking in indexes: https://pypi.org/simple, https://us-python.pkg.dev/colab-wheels/public/simple/\n",
            "Requirement already satisfied: dash-bootstrap-components in /usr/local/lib/python3.8/dist-packages (1.3.1)\n",
            "Requirement already satisfied: dash>=2.0.0 in /usr/local/lib/python3.8/dist-packages (from dash-bootstrap-components) (2.8.1)\n",
            "Requirement already satisfied: Flask>=1.0.4 in /usr/local/lib/python3.8/dist-packages (from dash>=2.0.0->dash-bootstrap-components) (1.1.4)\n",
            "Requirement already satisfied: dash-table==5.0.0 in /usr/local/lib/python3.8/dist-packages (from dash>=2.0.0->dash-bootstrap-components) (5.0.0)\n",
            "Requirement already satisfied: dash-core-components==2.0.0 in /usr/local/lib/python3.8/dist-packages (from dash>=2.0.0->dash-bootstrap-components) (2.0.0)\n",
            "Requirement already satisfied: dash-html-components==2.0.0 in /usr/local/lib/python3.8/dist-packages (from dash>=2.0.0->dash-bootstrap-components) (2.0.0)\n",
            "Requirement already satisfied: plotly>=5.0.0 in /usr/local/lib/python3.8/dist-packages (from dash>=2.0.0->dash-bootstrap-components) (5.5.0)\n",
            "Requirement already satisfied: click<8.0,>=5.1 in /usr/local/lib/python3.8/dist-packages (from Flask>=1.0.4->dash>=2.0.0->dash-bootstrap-components) (7.1.2)\n",
            "Requirement already satisfied: Werkzeug<2.0,>=0.15 in /usr/local/lib/python3.8/dist-packages (from Flask>=1.0.4->dash>=2.0.0->dash-bootstrap-components) (1.0.1)\n",
            "Requirement already satisfied: Jinja2<3.0,>=2.10.1 in /usr/local/lib/python3.8/dist-packages (from Flask>=1.0.4->dash>=2.0.0->dash-bootstrap-components) (2.11.3)\n",
            "Requirement already satisfied: itsdangerous<2.0,>=0.24 in /usr/local/lib/python3.8/dist-packages (from Flask>=1.0.4->dash>=2.0.0->dash-bootstrap-components) (1.1.0)\n",
            "Requirement already satisfied: six in /usr/local/lib/python3.8/dist-packages (from plotly>=5.0.0->dash>=2.0.0->dash-bootstrap-components) (1.15.0)\n",
            "Requirement already satisfied: tenacity>=6.2.0 in /usr/local/lib/python3.8/dist-packages (from plotly>=5.0.0->dash>=2.0.0->dash-bootstrap-components) (8.1.0)\n",
            "Requirement already satisfied: MarkupSafe>=0.23 in /usr/local/lib/python3.8/dist-packages (from Jinja2<3.0,>=2.10.1->Flask>=1.0.4->dash>=2.0.0->dash-bootstrap-components) (2.0.1)\n",
            "Looking in indexes: https://pypi.org/simple, https://us-python.pkg.dev/colab-wheels/public/simple/\n",
            "Requirement already satisfied: pyreadstat in /usr/local/lib/python3.8/dist-packages (1.2.0)\n",
            "Requirement already satisfied: pandas>=1.2.0 in /usr/local/lib/python3.8/dist-packages (from pyreadstat) (1.3.5)\n",
            "Requirement already satisfied: python-dateutil>=2.7.3 in /usr/local/lib/python3.8/dist-packages (from pandas>=1.2.0->pyreadstat) (2.8.2)\n",
            "Requirement already satisfied: numpy>=1.17.3 in /usr/local/lib/python3.8/dist-packages (from pandas>=1.2.0->pyreadstat) (1.21.6)\n",
            "Requirement already satisfied: pytz>=2017.3 in /usr/local/lib/python3.8/dist-packages (from pandas>=1.2.0->pyreadstat) (2022.7.1)\n",
            "Requirement already satisfied: six>=1.5 in /usr/local/lib/python3.8/dist-packages (from python-dateutil>=2.7.3->pandas>=1.2.0->pyreadstat) (1.15.0)\n",
            "Drive already mounted at /content/drive; to attempt to forcibly remount, call drive.mount(\"/content/drive\", force_remount=True).\n"
          ]
        }
      ],
      "source": [
        "!pip install jupyter-dash\n",
        "!pip install dash-bootstrap-components\n",
        "!pip install pyreadstat\n",
        "\n",
        "import pyreadstat\n",
        "from google.colab import drive\n",
        "drive.mount('/content/drive')\n",
        "import pandas as pd\n",
        "import numpy as np\n",
        "import matplotlib.pyplot as plt\n",
        "import plotly.graph_objects as go\n",
        "import plotly.express as px\n",
        "import seaborn as sns\n",
        "\n",
        "from sklearn.linear_model import LinearRegression\n",
        "\n",
        "from jupyter_dash import JupyterDash\n",
        "import dash\n",
        "from dash import Dash, dcc, html, Input, Output, State\n",
        "from dash.html import Div\n",
        "import dash_bootstrap_components as dbc\n",
        "\n"
      ]
    },
    {
      "cell_type": "code",
      "source": [
        "\n",
        "\n",
        "df, meta  = pyreadstat.read_sav('/content/drive/My Drive/Caregiver Projects/data/Data - 2020 CG in US Public Use file FINAL.sav')"
      ],
      "metadata": {
        "id": "QpjRLg_EdUNB"
      },
      "execution_count": null,
      "outputs": []
    },
    {
      "cell_type": "code",
      "source": [
        "df.head()\n"
      ],
      "metadata": {
        "id": "bA7yDw9Vfl_K",
        "outputId": "b1239678-8ddd-44af-bfc4-b11d569d256a",
        "colab": {
          "base_uri": "https://localhost:8080/",
          "height": 299
        }
      },
      "execution_count": null,
      "outputs": [
        {
          "output_type": "execute_result",
          "data": {
            "text/plain": [
              "    TRENDID    year  status  QFLAG  dov_flag  SCREEN  smptyp14  mode  SC1a  \\\n",
              "0  140001.0  2014.0     2.0    2.0       6.0     1.0       1.0   3.0   3.0   \n",
              "1  140002.0  2014.0     2.0    2.0       6.0     1.0       1.0   3.0   3.0   \n",
              "2  140003.0  2014.0     2.0    2.0       6.0     1.0       1.0   3.0   3.0   \n",
              "3  140004.0  2014.0     1.0    1.0     100.0     1.0       1.0   3.0   1.0   \n",
              "4  140005.0  2014.0     2.0    2.0       6.0     1.0       1.0   3.0   3.0   \n",
              "\n",
              "   SC1b  ...  lang   HH14WGT  IND14WGT  WGTAcg  WGT65plus  WGT6574  WGT75plus  \\\n",
              "0   3.0  ...   1.0  0.716300   0.74777     NaN        NaN      NaN        NaN   \n",
              "1   3.0  ...   1.0  1.106146   1.69266     NaN        NaN      NaN        NaN   \n",
              "2   3.0  ...   1.0  0.775124   1.70101     NaN        NaN      NaN        NaN   \n",
              "3   3.0  ...   1.0  1.111659   0.84076     NaN        NaN      NaN        NaN   \n",
              "4   3.0  ...   1.0  0.881664   0.77914     NaN        NaN      NaN        NaN   \n",
              "\n",
              "   ASflag  OLDflag  valdated  \n",
              "0     NaN      NaN       0.0  \n",
              "1     NaN      NaN       0.0  \n",
              "2     NaN      NaN       0.0  \n",
              "3     NaN      NaN       1.0  \n",
              "4     NaN      NaN       0.0  \n",
              "\n",
              "[5 rows x 307 columns]"
            ],
            "text/html": [
              "\n",
              "  <div id=\"df-85c45ebc-ded6-4ab3-84db-c53f12a47411\">\n",
              "    <div class=\"colab-df-container\">\n",
              "      <div>\n",
              "<style scoped>\n",
              "    .dataframe tbody tr th:only-of-type {\n",
              "        vertical-align: middle;\n",
              "    }\n",
              "\n",
              "    .dataframe tbody tr th {\n",
              "        vertical-align: top;\n",
              "    }\n",
              "\n",
              "    .dataframe thead th {\n",
              "        text-align: right;\n",
              "    }\n",
              "</style>\n",
              "<table border=\"1\" class=\"dataframe\">\n",
              "  <thead>\n",
              "    <tr style=\"text-align: right;\">\n",
              "      <th></th>\n",
              "      <th>TRENDID</th>\n",
              "      <th>year</th>\n",
              "      <th>status</th>\n",
              "      <th>QFLAG</th>\n",
              "      <th>dov_flag</th>\n",
              "      <th>SCREEN</th>\n",
              "      <th>smptyp14</th>\n",
              "      <th>mode</th>\n",
              "      <th>SC1a</th>\n",
              "      <th>SC1b</th>\n",
              "      <th>...</th>\n",
              "      <th>lang</th>\n",
              "      <th>HH14WGT</th>\n",
              "      <th>IND14WGT</th>\n",
              "      <th>WGTAcg</th>\n",
              "      <th>WGT65plus</th>\n",
              "      <th>WGT6574</th>\n",
              "      <th>WGT75plus</th>\n",
              "      <th>ASflag</th>\n",
              "      <th>OLDflag</th>\n",
              "      <th>valdated</th>\n",
              "    </tr>\n",
              "  </thead>\n",
              "  <tbody>\n",
              "    <tr>\n",
              "      <th>0</th>\n",
              "      <td>140001.0</td>\n",
              "      <td>2014.0</td>\n",
              "      <td>2.0</td>\n",
              "      <td>2.0</td>\n",
              "      <td>6.0</td>\n",
              "      <td>1.0</td>\n",
              "      <td>1.0</td>\n",
              "      <td>3.0</td>\n",
              "      <td>3.0</td>\n",
              "      <td>3.0</td>\n",
              "      <td>...</td>\n",
              "      <td>1.0</td>\n",
              "      <td>0.716300</td>\n",
              "      <td>0.74777</td>\n",
              "      <td>NaN</td>\n",
              "      <td>NaN</td>\n",
              "      <td>NaN</td>\n",
              "      <td>NaN</td>\n",
              "      <td>NaN</td>\n",
              "      <td>NaN</td>\n",
              "      <td>0.0</td>\n",
              "    </tr>\n",
              "    <tr>\n",
              "      <th>1</th>\n",
              "      <td>140002.0</td>\n",
              "      <td>2014.0</td>\n",
              "      <td>2.0</td>\n",
              "      <td>2.0</td>\n",
              "      <td>6.0</td>\n",
              "      <td>1.0</td>\n",
              "      <td>1.0</td>\n",
              "      <td>3.0</td>\n",
              "      <td>3.0</td>\n",
              "      <td>3.0</td>\n",
              "      <td>...</td>\n",
              "      <td>1.0</td>\n",
              "      <td>1.106146</td>\n",
              "      <td>1.69266</td>\n",
              "      <td>NaN</td>\n",
              "      <td>NaN</td>\n",
              "      <td>NaN</td>\n",
              "      <td>NaN</td>\n",
              "      <td>NaN</td>\n",
              "      <td>NaN</td>\n",
              "      <td>0.0</td>\n",
              "    </tr>\n",
              "    <tr>\n",
              "      <th>2</th>\n",
              "      <td>140003.0</td>\n",
              "      <td>2014.0</td>\n",
              "      <td>2.0</td>\n",
              "      <td>2.0</td>\n",
              "      <td>6.0</td>\n",
              "      <td>1.0</td>\n",
              "      <td>1.0</td>\n",
              "      <td>3.0</td>\n",
              "      <td>3.0</td>\n",
              "      <td>3.0</td>\n",
              "      <td>...</td>\n",
              "      <td>1.0</td>\n",
              "      <td>0.775124</td>\n",
              "      <td>1.70101</td>\n",
              "      <td>NaN</td>\n",
              "      <td>NaN</td>\n",
              "      <td>NaN</td>\n",
              "      <td>NaN</td>\n",
              "      <td>NaN</td>\n",
              "      <td>NaN</td>\n",
              "      <td>0.0</td>\n",
              "    </tr>\n",
              "    <tr>\n",
              "      <th>3</th>\n",
              "      <td>140004.0</td>\n",
              "      <td>2014.0</td>\n",
              "      <td>1.0</td>\n",
              "      <td>1.0</td>\n",
              "      <td>100.0</td>\n",
              "      <td>1.0</td>\n",
              "      <td>1.0</td>\n",
              "      <td>3.0</td>\n",
              "      <td>1.0</td>\n",
              "      <td>3.0</td>\n",
              "      <td>...</td>\n",
              "      <td>1.0</td>\n",
              "      <td>1.111659</td>\n",
              "      <td>0.84076</td>\n",
              "      <td>NaN</td>\n",
              "      <td>NaN</td>\n",
              "      <td>NaN</td>\n",
              "      <td>NaN</td>\n",
              "      <td>NaN</td>\n",
              "      <td>NaN</td>\n",
              "      <td>1.0</td>\n",
              "    </tr>\n",
              "    <tr>\n",
              "      <th>4</th>\n",
              "      <td>140005.0</td>\n",
              "      <td>2014.0</td>\n",
              "      <td>2.0</td>\n",
              "      <td>2.0</td>\n",
              "      <td>6.0</td>\n",
              "      <td>1.0</td>\n",
              "      <td>1.0</td>\n",
              "      <td>3.0</td>\n",
              "      <td>3.0</td>\n",
              "      <td>3.0</td>\n",
              "      <td>...</td>\n",
              "      <td>1.0</td>\n",
              "      <td>0.881664</td>\n",
              "      <td>0.77914</td>\n",
              "      <td>NaN</td>\n",
              "      <td>NaN</td>\n",
              "      <td>NaN</td>\n",
              "      <td>NaN</td>\n",
              "      <td>NaN</td>\n",
              "      <td>NaN</td>\n",
              "      <td>0.0</td>\n",
              "    </tr>\n",
              "  </tbody>\n",
              "</table>\n",
              "<p>5 rows × 307 columns</p>\n",
              "</div>\n",
              "      <button class=\"colab-df-convert\" onclick=\"convertToInteractive('df-85c45ebc-ded6-4ab3-84db-c53f12a47411')\"\n",
              "              title=\"Convert this dataframe to an interactive table.\"\n",
              "              style=\"display:none;\">\n",
              "        \n",
              "  <svg xmlns=\"http://www.w3.org/2000/svg\" height=\"24px\"viewBox=\"0 0 24 24\"\n",
              "       width=\"24px\">\n",
              "    <path d=\"M0 0h24v24H0V0z\" fill=\"none\"/>\n",
              "    <path d=\"M18.56 5.44l.94 2.06.94-2.06 2.06-.94-2.06-.94-.94-2.06-.94 2.06-2.06.94zm-11 1L8.5 8.5l.94-2.06 2.06-.94-2.06-.94L8.5 2.5l-.94 2.06-2.06.94zm10 10l.94 2.06.94-2.06 2.06-.94-2.06-.94-.94-2.06-.94 2.06-2.06.94z\"/><path d=\"M17.41 7.96l-1.37-1.37c-.4-.4-.92-.59-1.43-.59-.52 0-1.04.2-1.43.59L10.3 9.45l-7.72 7.72c-.78.78-.78 2.05 0 2.83L4 21.41c.39.39.9.59 1.41.59.51 0 1.02-.2 1.41-.59l7.78-7.78 2.81-2.81c.8-.78.8-2.07 0-2.86zM5.41 20L4 18.59l7.72-7.72 1.47 1.35L5.41 20z\"/>\n",
              "  </svg>\n",
              "      </button>\n",
              "      \n",
              "  <style>\n",
              "    .colab-df-container {\n",
              "      display:flex;\n",
              "      flex-wrap:wrap;\n",
              "      gap: 12px;\n",
              "    }\n",
              "\n",
              "    .colab-df-convert {\n",
              "      background-color: #E8F0FE;\n",
              "      border: none;\n",
              "      border-radius: 50%;\n",
              "      cursor: pointer;\n",
              "      display: none;\n",
              "      fill: #1967D2;\n",
              "      height: 32px;\n",
              "      padding: 0 0 0 0;\n",
              "      width: 32px;\n",
              "    }\n",
              "\n",
              "    .colab-df-convert:hover {\n",
              "      background-color: #E2EBFA;\n",
              "      box-shadow: 0px 1px 2px rgba(60, 64, 67, 0.3), 0px 1px 3px 1px rgba(60, 64, 67, 0.15);\n",
              "      fill: #174EA6;\n",
              "    }\n",
              "\n",
              "    [theme=dark] .colab-df-convert {\n",
              "      background-color: #3B4455;\n",
              "      fill: #D2E3FC;\n",
              "    }\n",
              "\n",
              "    [theme=dark] .colab-df-convert:hover {\n",
              "      background-color: #434B5C;\n",
              "      box-shadow: 0px 1px 3px 1px rgba(0, 0, 0, 0.15);\n",
              "      filter: drop-shadow(0px 1px 2px rgba(0, 0, 0, 0.3));\n",
              "      fill: #FFFFFF;\n",
              "    }\n",
              "  </style>\n",
              "\n",
              "      <script>\n",
              "        const buttonEl =\n",
              "          document.querySelector('#df-85c45ebc-ded6-4ab3-84db-c53f12a47411 button.colab-df-convert');\n",
              "        buttonEl.style.display =\n",
              "          google.colab.kernel.accessAllowed ? 'block' : 'none';\n",
              "\n",
              "        async function convertToInteractive(key) {\n",
              "          const element = document.querySelector('#df-85c45ebc-ded6-4ab3-84db-c53f12a47411');\n",
              "          const dataTable =\n",
              "            await google.colab.kernel.invokeFunction('convertToInteractive',\n",
              "                                                     [key], {});\n",
              "          if (!dataTable) return;\n",
              "\n",
              "          const docLinkHtml = 'Like what you see? Visit the ' +\n",
              "            '<a target=\"_blank\" href=https://colab.research.google.com/notebooks/data_table.ipynb>data table notebook</a>'\n",
              "            + ' to learn more about interactive tables.';\n",
              "          element.innerHTML = '';\n",
              "          dataTable['output_type'] = 'display_data';\n",
              "          await google.colab.output.renderOutput(dataTable, element);\n",
              "          const docLink = document.createElement('div');\n",
              "          docLink.innerHTML = docLinkHtml;\n",
              "          element.appendChild(docLink);\n",
              "        }\n",
              "      </script>\n",
              "    </div>\n",
              "  </div>\n",
              "  "
            ]
          },
          "metadata": {},
          "execution_count": 80
        }
      ]
    },
    {
      "cell_type": "markdown",
      "source": [
        "# What I want to visualize in this data set\n",
        "\n",
        "I want to highlight differences in the caregiving situations between those who feel alone and those who don't feel alone.  To start I am going to separate the pool into 2 divisions: caregivers who answered \"Agree\" or \"Strongly Agree\" to the question \"I feel alone\" and those who answered differently. This will be stored in a feature called \"alone\" which will have the value 0 if the caregiver does not feel alone and 1 if the caregiver does feel alone.  \n",
        "\n",
        "Next I am going to look at a series of survey questions highlighting different caregiving scenarios and plot what percentage of caregivers in that scenario report feeling alone. In some questions this will be straighforward.   For instance, question q17f asks if the recipient needs care because of a behavioral issue.  The possible values are:\n",
        " 1 - yes\n",
        " 2 - no\n",
        " 3 - don't know\n",
        " 4 - refused\n",
        " In this case I will consider those who answered yes as having a recpient that needs care for a behavioral issue. \n",
        " Other  questions will require binning the data.  For example q7 asks the caregiver relationship to the caregivee and has 37 possible answers.  I will create a feature called \"partner\", combine the answers that imply a parnter relationship (spouse, partner, former spouse, same-sex partner) encoded to a value of 1, and combine all the other relationships (parent, grandparent, sibling, etc) to a value of 0.\n",
        "\n"
      ],
      "metadata": {
        "id": "70Imc-n1cssO"
      }
    },
    {
      "cell_type": "code",
      "source": [
        "# make a feature called \"alone\" that is 1 if the person answered \"agree\" \"strongly agree\" with \"I feel alone\" \n",
        "# and 0 if they answered \"disagree\" or \"strongly disagree\"\n",
        "\n",
        "df['alone'] = np.where((df['m5c'] ==4) | (df['m5c']==5), 1, 0)  # 1 if alone, 0 all else"
      ],
      "metadata": {
        "id": "oUlkfcbXCplD"
      },
      "execution_count": null,
      "outputs": []
    },
    {
      "cell_type": "code",
      "source": [
        "# Create a new dataframe with the relationships we want to plot\n",
        "dfa = pd.DataFrame()"
      ],
      "metadata": {
        "id": "lxYX3vKcZpIk"
      },
      "execution_count": null,
      "outputs": []
    },
    {
      "cell_type": "code",
      "source": [
        "def create_plot(measure,answers, plot_label):\n",
        "\n",
        "  for j in answers:\n",
        "    den= df[measure].value_counts()[j] \n",
        "    num = df.groupby(measure).sum().loc[j,'alone'] # this is the number of people who answered yes to the question and also answered \"I feel alone\"\n",
        "    dfa[answers[j]] = [num/den]\n",
        "\n",
        "  plot = sns.barplot(data= dfa[answers.values()])  \n",
        "  plot.set(xlabel=plot_label, ylabel='Percent of caregivers who feel alone')\n",
        "  return plot\n"
      ],
      "metadata": {
        "id": "tNrd3Yo523jX"
      },
      "execution_count": null,
      "outputs": []
    },
    {
      "cell_type": "code",
      "source": [
        "#q17a - short term physical condition\n",
        "#q17b - long term physical condition 1 = yes, 2 = no\n",
        "#q17c - emotional or mental health\n",
        "\n",
        "cause =  {'q17a': 'short term physical', 'q17b': 'long term physical', 'q17c': 'mental health'}\n",
        "for i in cause:\n",
        "  den= df[i].value_counts()[1] # this is the number of people who answered yes to the question\n",
        "  num = df.groupby(i).sum().loc[1,'alone'] # this is the number of people who answered yes to the question and also answered \"I feel alone\"\n",
        "  dfa[cause[i]] = [ num/den] # this is the percentage of people who answered yes to the question and also answered \"I feel alone\"\n",
        "\n",
        "cause_plot = sns.barplot(data= dfa)\n",
        "cause_plot.set(xlabel='Reason for needing caregiving', ylabel='Percent of caregivers who feel alone')\n",
        "plt.show()\n",
        "\n",
        " "
      ],
      "metadata": {
        "colab": {
          "base_uri": "https://localhost:8080/",
          "height": 279
        },
        "id": "G08MaDDDl7fS",
        "outputId": "ebfd1412-1866-4512-870d-1f14dd6cb84b"
      },
      "execution_count": null,
      "outputs": [
        {
          "output_type": "display_data",
          "data": {
            "text/plain": [
              "<Figure size 432x288 with 1 Axes>"
            ],
            "image/png": "[encoded data removed]"
          },
          "metadata": {
            "needs_background": "light"
          }
        }
      ]
    },
    {
      "cell_type": "markdown",
      "source": [
        "# Examine the relationship between caregiver and recipient\n",
        "\n",
        "Question q7 details the various relationships represented.  I want to seperate out partner relationships from non-partner relationships and explore if there is a difference in feelings of lonliness. "
      ],
      "metadata": {
        "id": "XYj3GSeKonrx"
      }
    },
    {
      "cell_type": "code",
      "source": [
        "\n",
        "i = 'q7'\n",
        "partner_answers = [4,20,35, 36]\n",
        "den= df[i].value_counts()[partner_answers].sum() # this is the number of people who answered yes to the question\n",
        "num = df.groupby(i).sum().loc[partner_answers,'alone'].sum() # this is the number of people who answered yes to the question and also answered \"I feel alone\"\n",
        "dfa['Partner'] = [num/den]\n",
        "print(num, den)\n",
        "\n",
        "den= df[i].value_counts().sum() - den # all relationships except partner relationships\n",
        "num = df.groupby(i).sum().loc[:,'alone'].sum()  - num\n",
        "dfa['Non Partner'] = [num/den]\n",
        "\n",
        "relationship_plot = sns.barplot(data= dfa[[\"Partner\",\"Non Partner\"]])  \n",
        "relationship_plot.set(xlabel='Relationship to caregivee', ylabel='Percent of caregivers who feel alone')\n",
        "plt.show()\n"
      ],
      "metadata": {
        "colab": {
          "base_uri": "https://localhost:8080/",
          "height": 296
        },
        "id": "2Vsy5xv3CZan",
        "outputId": "88804d60-2ad1-4b0e-9277-2139b0109b3d"
      },
      "execution_count": null,
      "outputs": [
        {
          "output_type": "stream",
          "name": "stdout",
          "text": [
            "80 549\n"
          ]
        },
        {
          "output_type": "display_data",
          "data": {
            "text/plain": [
              "<Figure size 432x288 with 1 Axes>"
            ],
            "image/png": "[encoded data removed]"
          },
          "metadata": {
            "needs_background": "light"
          }
        }
      ]
    },
    {
      "cell_type": "markdown",
      "source": [
        "# Lonliness in caregivers who live with the recipient vs those who live in different households"
      ],
      "metadata": {
        "id": "FfCrijzrfCyt"
      }
    },
    {
      "cell_type": "code",
      "source": [
        "measure = 'banlives'\n",
        "answer = {1:'Live Together', 2:'Live Apart'}\n",
        "plot_label = 'Lives Together or Apart'\n",
        "together_plot = create_plot(measure, answer, plot_label)\n",
        "plt.show()"
      ],
      "metadata": {
        "colab": {
          "base_uri": "https://localhost:8080/",
          "height": 314
        },
        "id": "fZbvuTBv-fz1",
        "outputId": "e3f07a32-29e4-4c64-b0af-9c01adde1be3"
      },
      "execution_count": null,
      "outputs": [
        {
          "output_type": "stream",
          "name": "stdout",
          "text": [
            "1 1419 230\n",
            "2 1986 162\n"
          ]
        },
        {
          "output_type": "display_data",
          "data": {
            "text/plain": [
              "<Figure size 432x288 with 1 Axes>"
            ],
            "image/png": "[encoded data removed]"
          },
          "metadata": {
            "needs_background": "light"
          }
        }
      ]
    },
    {
      "cell_type": "markdown",
      "source": [
        "# Lonliness in caregivers of recpients with and without dementia"
      ],
      "metadata": {
        "id": "wAra8u5RkvYb"
      }
    },
    {
      "cell_type": "code",
      "source": [
        "measure ='alzdem'\n",
        "answer = {1:'Dementia',2:'No Dementia'}\n",
        "plot_label = \"Does the recipient have dementia?\"\n",
        "dementia_plot = create_plot(measure, answer, plot_label)\n",
        "plt.show() "
      ],
      "metadata": {
        "colab": {
          "base_uri": "https://localhost:8080/",
          "height": 314
        },
        "id": "42mB74QsHP6h",
        "outputId": "688c82ca-b0e8-4756-fd79-772007ef10e9"
      },
      "execution_count": null,
      "outputs": [
        {
          "output_type": "stream",
          "name": "stdout",
          "text": [
            "1 827 124\n",
            "2 2202 198\n"
          ]
        },
        {
          "output_type": "display_data",
          "data": {
            "text/plain": [
              "<Figure size 432x288 with 1 Axes>"
            ],
            "image/png": "[encoded data removed]"
          },
          "metadata": {
            "needs_background": "light"
          }
        }
      ]
    },
    {
      "cell_type": "markdown",
      "source": [
        "# Length of time of caregiving"
      ],
      "metadata": {
        "id": "L9wS41huoyMK"
      }
    },
    {
      "cell_type": "code",
      "source": [
        "measure = \"q21cat\"\n",
        "answers = {2:'< 6 months', 3: '6 months to 1 year', 4:'1-4 years', 5: '5-9 years', 6 :'10+ years'}\n",
        "plot_label = 'Length of time of caregiving'\n",
        "time_plot = create_plot(measure, answers, plot_label)\n",
        "plt.show()"
      ],
      "metadata": {
        "colab": {
          "base_uri": "https://localhost:8080/",
          "height": 366
        },
        "id": "kLOKWnPWITAU",
        "outputId": "ab198ced-9eaf-4d42-fe38-d304d6ac446d"
      },
      "execution_count": null,
      "outputs": [
        {
          "output_type": "stream",
          "name": "stdout",
          "text": [
            "2 842 47\n",
            "3 640 72\n",
            "4 927 114\n",
            "5 466 77\n",
            "6 496 81\n"
          ]
        },
        {
          "output_type": "display_data",
          "data": {
            "text/plain": [
              "<Figure size 432x288 with 1 Axes>"
            ],
            "image/png": "[encoded data removed]"
          },
          "metadata": {
            "needs_background": "light"
          }
        }
      ]
    },
    {
      "cell_type": "markdown",
      "source": [
        "#Dealing with Incontinence"
      ],
      "metadata": {
        "id": "rdrq-8zwuAjd"
      }
    },
    {
      "cell_type": "code",
      "source": [
        "measure =\"q22e\"\n",
        "answers = {1: \"Incontinence\", 2:\"No Incontinence\"}\n",
        "plot_label = \"Do you deal with incontinence?\"\n",
        "incontinence_plot = create_plot(measure, answers, plot_label)\n",
        "plt.show()"
      ],
      "metadata": {
        "colab": {
          "base_uri": "https://localhost:8080/",
          "height": 314
        },
        "id": "fHx19rxpNGcM",
        "outputId": "f25568be-8860-4c58-b444-27eab45d9f05"
      },
      "execution_count": null,
      "outputs": [
        {
          "output_type": "stream",
          "name": "stdout",
          "text": [
            "1 639 106\n",
            "2 2703 275\n"
          ]
        },
        {
          "output_type": "display_data",
          "data": {
            "text/plain": [
              "<Figure size 432x288 with 1 Axes>"
            ],
            "image/png": "[encoded data removed]"
          },
          "metadata": {
            "needs_background": "light"
          }
        }
      ]
    },
    {
      "cell_type": "markdown",
      "source": [
        "# Hours of caregiving per week"
      ],
      "metadata": {
        "id": "WS70VUThvRLM"
      }
    },
    {
      "cell_type": "code",
      "source": [
        "measure = \"hourscat\"\n",
        "answers = {1:'0-8 hours', 2: '9-20 hours', 3:'21-40 hours', 4: '40+ hours'}\n",
        "plot_label = 'Hours per week spent caregiving'\n",
        "hours_plot = create_plot(measure, answers, plot_label)\n",
        "plt.show()"
      ],
      "metadata": {
        "colab": {
          "base_uri": "https://localhost:8080/",
          "height": 348
        },
        "id": "ZM4joFF5Nlm1",
        "outputId": "d3387148-9a28-49aa-875b-a5844e9d0bee"
      },
      "execution_count": null,
      "outputs": [
        {
          "output_type": "stream",
          "name": "stdout",
          "text": [
            "1 1459 100\n",
            "2 733 109\n",
            "3 357 49\n",
            "4 797 130\n"
          ]
        },
        {
          "output_type": "display_data",
          "data": {
            "text/plain": [
              "<Figure size 432x288 with 1 Axes>"
            ],
            "image/png": "[encoded data removed]"
          },
          "metadata": {
            "needs_background": "light"
          }
        }
      ]
    },
    {
      "cell_type": "markdown",
      "source": [
        "# Overall Burden of Care"
      ],
      "metadata": {
        "id": "A9thM6xAwLnD"
      }
    },
    {
      "cell_type": "code",
      "source": [
        "measure = \"burden\"\n",
        "answers = {1:'Level 1 (lowest)', 2: 'Level 2', 3:'Level 3', 4: 'Level 4', 5 :'Level 5 (highest)'}\n",
        "plot_label = \"Overall level of burden of caregiving\"\n",
        "burden_plot = create_plot(measure, answers, plot_label)\n",
        "plt.show()\n"
      ],
      "metadata": {
        "colab": {
          "base_uri": "https://localhost:8080/",
          "height": 366
        },
        "id": "enD2wo6FODPL",
        "outputId": "9ec0beaf-ebea-446a-d717-82f129fefbaa"
      },
      "execution_count": null,
      "outputs": [
        {
          "output_type": "stream",
          "name": "stdout",
          "text": [
            "1 873 51\n",
            "2 507 59\n",
            "3 568 62\n",
            "4 893 137\n",
            "5 511 81\n"
          ]
        },
        {
          "output_type": "display_data",
          "data": {
            "text/plain": [
              "<Figure size 432x288 with 1 Axes>"
            ],
            "image/png": "[encoded data removed]"
          },
          "metadata": {
            "needs_background": "light"
          }
        }
      ]
    },
    {
      "cell_type": "markdown",
      "source": [
        "# Anyone else provided unpaid help to recipient in past 12 months"
      ],
      "metadata": {
        "id": "hsVn4OjPyKoV"
      }
    },
    {
      "cell_type": "code",
      "source": [
        "measure = \"Q28\"\n",
        "answers = {1: \"Have Help\", 2: \"No Help\"}\n",
        "plot_label = \"Anyone else provided unpaid help to recipient in past 12 months?\"\n",
        "help_plot = create_plot(measure,answers, plot_label)\n",
        "plt.show()"
      ],
      "metadata": {
        "colab": {
          "base_uri": "https://localhost:8080/",
          "height": 314
        },
        "id": "DfWy_Dc3OXNG",
        "outputId": "b34ad28f-131e-4c2d-8651-8cd93437c53c"
      },
      "execution_count": null,
      "outputs": [
        {
          "output_type": "stream",
          "name": "stdout",
          "text": [
            "1 1801 158\n",
            "2 1547 232\n"
          ]
        },
        {
          "output_type": "display_data",
          "data": {
            "text/plain": [
              "<Figure size 432x288 with 1 Axes>"
            ],
            "image/png": "[encoded data removed]"
          },
          "metadata": {
            "needs_background": "light"
          }
        }
      ]
    },
    {
      "cell_type": "markdown",
      "source": [
        "# Feels had a choice to take on caring for recipient"
      ],
      "metadata": {
        "id": "BxLVixUM53Te"
      }
    },
    {
      "cell_type": "code",
      "source": [
        "measure = 'Q39' # Feels had a choice to take on caring for recipient\n",
        "answers = {1:\"Had a choice\", 2:\"Had no choice\"}\n",
        "plot_label =\"Feels had a choice to take on caring for recipient\"\n",
        "plot = create_plot(measure, answers, plot_label)\n",
        "plt.show()\n"
      ],
      "metadata": {
        "colab": {
          "base_uri": "https://localhost:8080/",
          "height": 314
        },
        "id": "ES5SOxRc5zf9",
        "outputId": "92dbc4de-48ce-42dc-f60f-3a78aca5d8ca"
      },
      "execution_count": null,
      "outputs": [
        {
          "output_type": "stream",
          "name": "stdout",
          "text": [
            "1 1583 107\n",
            "2 1756 284\n"
          ]
        },
        {
          "output_type": "display_data",
          "data": {
            "text/plain": [
              "<Figure size 432x288 with 1 Axes>"
            ],
            "image/png": "[encoded data removed]"
          },
          "metadata": {
            "needs_background": "light"
          }
        }
      ]
    },
    {
      "cell_type": "markdown",
      "source": [
        "# Is the caregiver employed?"
      ],
      "metadata": {
        "id": "l0eHWlJOPYw7"
      }
    },
    {
      "cell_type": "code",
      "source": [
        "measure = \"Q32A\"\n",
        "answers = {1:\"Employed\", 2:\"Not Employed\"}\n",
        "plot_label = \"Is the caregiver employed?\"\n",
        "employed_plot = create_plot(measure, answers, plot_label)\n",
        "plt.show()"
      ],
      "metadata": {
        "colab": {
          "base_uri": "https://localhost:8080/",
          "height": 314
        },
        "id": "zI56aNudO9Id",
        "outputId": "f9807214-e44c-49a1-891b-5d98daaca83f"
      },
      "execution_count": null,
      "outputs": [
        {
          "output_type": "stream",
          "name": "stdout",
          "text": [
            "1 1647 190\n",
            "2 1697 202\n"
          ]
        },
        {
          "output_type": "display_data",
          "data": {
            "text/plain": [
              "<Figure size 432x288 with 1 Axes>"
            ],
            "image/png": "[encoded data removed]"
          },
          "metadata": {
            "needs_background": "light"
          }
        }
      ]
    },
    {
      "cell_type": "markdown",
      "source": [
        "# Ever Had doctor, nurse, social work ask what you need to care for recipient?"
      ],
      "metadata": {
        "id": "vB3VrUXwQGGx"
      }
    },
    {
      "cell_type": "code",
      "source": [
        "measure = \"q45e\"\n",
        "answers = {1:\"Asked about needs\", 2:\"Not asked about needs\"}\n",
        "plot_label = \"Ever Had doctor, nurse, social work ask what you need to care for recipient?\"\n",
        "asked_plot = create_plot(measure, answers, plot_label)\n",
        "plt.show()"
      ],
      "metadata": {
        "colab": {
          "base_uri": "https://localhost:8080/",
          "height": 314
        },
        "id": "nk0KY73eQP6q",
        "outputId": "3d674c24-4e48-45cc-e4d8-dfca41bcc993"
      },
      "execution_count": null,
      "outputs": [
        {
          "output_type": "stream",
          "name": "stdout",
          "text": [
            "1 1051 127\n",
            "2 2258 258\n"
          ]
        },
        {
          "output_type": "display_data",
          "data": {
            "text/plain": [
              "<Figure size 432x288 with 1 Axes>"
            ],
            "image/png": "[encoded data removed]"
          },
          "metadata": {
            "needs_background": "light"
          }
        }
      ]
    },
    {
      "cell_type": "markdown",
      "source": [
        "# Connected with other caregivers online?"
      ],
      "metadata": {
        "id": "ZqUm6efoRcBo"
      }
    },
    {
      "cell_type": "code",
      "source": [
        "measure = \"m7g\"\n",
        "answers = {1:\"Conneced online\", 2:\"Not connected online\"}\n",
        "plot_label = \"Connected with other caregivers online?\"\n",
        "connected_plot = create_plot(measure, answers, plot_label)\n",
        "plt.show()"
      ],
      "metadata": {
        "colab": {
          "base_uri": "https://localhost:8080/",
          "height": 314
        },
        "id": "OGITXxGURcq4",
        "outputId": "4a88d625-787a-452f-a808-fa75a43535c9"
      },
      "execution_count": null,
      "outputs": [
        {
          "output_type": "stream",
          "name": "stdout",
          "text": [
            "1 149 51\n",
            "2 1447 322\n"
          ]
        },
        {
          "output_type": "display_data",
          "data": {
            "text/plain": [
              "<Figure size 432x288 with 1 Axes>"
            ],
            "image/png": "[encoded data removed]"
          },
          "metadata": {
            "needs_background": "light"
          }
        }
      ]
    },
    {
      "cell_type": "code",
      "source": [],
      "metadata": {
        "id": "fePQelZUPCcs"
      },
      "execution_count": null,
      "outputs": []
    }
  ]
}